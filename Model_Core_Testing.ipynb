{
 "cells": [
  {
   "cell_type": "code",
   "execution_count": 155,
   "id": "ba4d035d",
   "metadata": {},
   "outputs": [],
   "source": [
    "import pickle\n",
    "import numpy as np\n",
    "import pandas as pd # data processing, CSV file I/O (e.g. pd.read_csv)\n",
    "import os\n",
    "from sklearn.preprocessing import MinMaxScaler"
   ]
  },
  {
   "cell_type": "code",
   "execution_count": 156,
   "id": "f45dfc10",
   "metadata": {},
   "outputs": [],
   "source": [
    "user_input = pd.read_csv('./input/User_Input2.csv')"
   ]
  },
  {
   "cell_type": "code",
   "execution_count": 157,
   "id": "c6e0bfea",
   "metadata": {},
   "outputs": [],
   "source": [
    "#Convertin the predictor variable in a binary numeric variable\n",
    "user_input['Churn'].replace(to_replace='Yes', value=1, inplace=True)\n",
    "user_input['Churn'].replace(to_replace='No',  value=0, inplace=True)\n",
    "\n",
    "#Let's convert all the categorical variables into dummy variables\n",
    "df_dummies_user_input = pd.get_dummies(user_input)\n",
    "#df_dummies_user_input.head()"
   ]
  },
  {
   "cell_type": "code",
   "execution_count": 158,
   "id": "47ba0c63",
   "metadata": {},
   "outputs": [],
   "source": [
    "# We will use the data frame where we had created dummy variables\n",
    "y = df_dummies_user_input['Churn'].values\n",
    "X = df_dummies_user_input.drop(columns = ['Churn'])\n",
    "\n",
    "# Create orginal empty dataframes\n",
    "df1 = pd.DataFrame({'SeniorCitizen':[],'tenure':[],'MonthlyCharges':[],'TotalCharges':[],'gender_Female':[],'gender_Male':[],'Partner_No':[],'Partner_Yes':[],'Dependents_No':[],'Dependents_Yes':[],'PhoneService_No':[],'PhoneService_Yes':[],'MultipleLines_No':[],'MultipleLines_No phone service':[],'MultipleLines_Yes':[],'InternetService_DSL':[],'InternetService_Fiber optic':[],'InternetService_No':[],'OnlineSecurity_No':[],'OnlineSecurity_No internet service':[],'OnlineSecurity_Yes':[],'OnlineBackup_No':[],'OnlineBackup_No internet service':[],'OnlineBackup_Yes':[],'DeviceProtection_No':[],'DeviceProtection_No internet service':[],'DeviceProtection_Yes':[],'TechSupport_No':[],'TechSupport_No internet service':[],'TechSupport_Yes':[],'StreamingTV_No':[],'StreamingTV_No internet service':[],'StreamingTV_Yes':[],'StreamingMovies_No':[],'StreamingMovies_No internet service':[],'StreamingMovies_Yes':[],'Contract_Month-to-month':[],'Contract_One year':[],'Contract_Two year':[],'PaperlessBilling_No':[],'PaperlessBilling_Yes':[],'PaymentMethod_Bank transfer (automatic)':[],'PaymentMethod_Credit card (automatic)':[],'PaymentMethod_Electronic check':[],'PaymentMethod_Mailed check':[],})\n",
    "\n",
    "# Concatenate the dataframes vertically and reindex the columns to match the order\n",
    "X = pd.concat([df1, X]).reindex(columns=df1.columns)\n",
    "X.fillna(0, inplace=True)"
   ]
  },
  {
   "cell_type": "code",
   "execution_count": 159,
   "id": "2b970029",
   "metadata": {},
   "outputs": [],
   "source": [
    "with open('model_Cyaramar_scalar.pkl', 'rb') as f:\n",
    "    scaler = pickle.load(f)\n",
    "\n",
    "# reshape the single row to a 2D array with one row and the same number of columns as the training data\n",
    "#X_single_row_2d = X.reshape(1, -1)\n",
    "\n",
    "X_scaled_row = scaler.transform(X)"
   ]
  },
  {
   "cell_type": "code",
   "execution_count": 160,
   "id": "fe401cc6",
   "metadata": {},
   "outputs": [
    {
     "name": "stdout",
     "output_type": "stream",
     "text": [
      "[0 1 1 1 1 0 0 0 1 1 0 0 0 0 0 0 0 0 0 0]\n"
     ]
    }
   ],
   "source": [
    "# Load the model from the file\n",
    "with open(\"model_Cyaramar_rf.pkl\", \"rb\") as f:\n",
    "    loaded_model = pickle.load(f)\n",
    "\n",
    "prediction_test = loaded_model.predict(X_scaled_row)\n",
    "print (prediction_test)"
   ]
  },
  {
   "cell_type": "code",
   "execution_count": 161,
   "id": "d3c63107",
   "metadata": {},
   "outputs": [
    {
     "data": {
      "text/plain": [
       "array([0, 1, 1, 1, 1, 0, 0, 0, 1, 1, 0, 0, 0, 0, 0, 0, 0, 0, 0, 0],\n",
       "      dtype=int64)"
      ]
     },
     "execution_count": 161,
     "metadata": {},
     "output_type": "execute_result"
    }
   ],
   "source": [
    "prediction_test"
   ]
  },
  {
   "cell_type": "code",
   "execution_count": 154,
   "id": "853d878a",
   "metadata": {},
   "outputs": [],
   "source": [
    "if prediction_test[0] == 1:\n",
    "    Result_Text = \"Customer will churn. Better connect with customer ASAP\"\n",
    "else:\n",
    "    Result_Text = \"Customer will NOT churn. Make sure to stay in touch with customer\""
   ]
  },
  {
   "cell_type": "code",
   "execution_count": 134,
   "id": "e7561e85",
   "metadata": {},
   "outputs": [
    {
     "data": {
      "text/plain": [
       "'Customer will NOT churn. Make sure to stay in touch with customer'"
      ]
     },
     "execution_count": 134,
     "metadata": {},
     "output_type": "execute_result"
    }
   ],
   "source": [
    "Result_Text"
   ]
  },
  {
   "cell_type": "code",
   "execution_count": null,
   "id": "90088b53",
   "metadata": {},
   "outputs": [],
   "source": []
  }
 ],
 "metadata": {
  "kernelspec": {
   "display_name": "Python 3 (ipykernel)",
   "language": "python",
   "name": "python3"
  },
  "language_info": {
   "codemirror_mode": {
    "name": "ipython",
    "version": 3
   },
   "file_extension": ".py",
   "mimetype": "text/x-python",
   "name": "python",
   "nbconvert_exporter": "python",
   "pygments_lexer": "ipython3",
   "version": "3.9.13"
  }
 },
 "nbformat": 4,
 "nbformat_minor": 5
}
